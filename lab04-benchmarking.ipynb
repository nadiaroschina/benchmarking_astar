{
 "cells": [
  {
   "cell_type": "code",
   "execution_count": 1,
   "metadata": {},
   "outputs": [],
   "source": [
    "import math\n",
    "from collections import defaultdict\n",
    "from heapq import heappop, heappush\n",
    "from typing import Callable, Iterable, List, Optional, Tuple, Type, Union\n",
    "\n",
    "import matplotlib.pyplot as plt\n",
    "import numpy as np\n",
    "import numpy.typing as npt\n",
    "\n",
    "from dataclasses import dataclass\n",
    "\n",
    "%matplotlib inline"
   ]
  },
  {
   "cell_type": "markdown",
   "metadata": {},
   "source": [
    "## Grid map representation"
   ]
  },
  {
   "cell_type": "code",
   "execution_count": 2,
   "metadata": {},
   "outputs": [],
   "source": [
    "class Map:\n",
    "\n",
    "    def __init__(self, cells: npt.NDArray, name: Optional[str] = None):\n",
    "        self._name = name\n",
    "        self._width = cells.shape[1]\n",
    "        self._height = cells.shape[0]\n",
    "        self._cells = cells\n",
    "\n",
    "    def in_bounds(self, i: int, j: int) -> bool:\n",
    "        return 0 <= j < self._width and 0 <= i < self._height\n",
    "\n",
    "    def traversable(self, i: int, j: int) -> bool:\n",
    "        return not self._cells[i, j]\n",
    "\n",
    "    def get_neighbours(self, i: int, j: int) -> List[Tuple[int, int]]:\n",
    "        neighbours = []\n",
    "        delta_cardinal = ((0, 1), (1, 0), (0, -1), (-1, 0))\n",
    "        for (dx, dy) in delta_cardinal:\n",
    "            ni, nj = i + dx, j + dy\n",
    "            if self.in_bounds(ni, nj) and self.traversable(ni, nj):\n",
    "                neighbours.append((ni, nj))\n",
    "        # 8-connecting grid\n",
    "        delta_diagonal = ((1, 1), (1, -1), (-1, 1), (-1, -1))\n",
    "        for (dx, dy) in delta_diagonal:\n",
    "            ni, nj = i + dx, j + dy\n",
    "            # no corner cutting\n",
    "            if (self.in_bounds(ni, nj) \n",
    "                    and self.traversable(ni, nj) \n",
    "                    and self.traversable(i + dx, j)\n",
    "                    and self.traversable(i, j + dy)\n",
    "            ):\n",
    "                neighbours.append((ni, nj))\n",
    "        return neighbours\n",
    "\n",
    "    def get_size(self) -> Tuple[int, int]:\n",
    "        return self._height, self._width\n",
    "\n",
    "    def __str__(self):\n",
    "        res = f'width = {self._width}, height = {self._height}'\n",
    "        for line in self._cells:\n",
    "            res += f'\\n{line}'\n",
    "        return res\n",
    "    \n",
    "    @property\n",
    "    def name(self):\n",
    "        return self._name"
   ]
  },
  {
   "cell_type": "code",
   "execution_count": 3,
   "metadata": {},
   "outputs": [],
   "source": [
    "def compute_cost(i1: int, j1: int, i2: int, j2: int) -> float:\n",
    "    if abs(i1 - i2) + abs(j1 - j2) == 1:  # Cardinal move\n",
    "        return 1\n",
    "    elif abs(i1 - i2) == 1 and abs(j1 - j2) == 1:  # Diagonal move\n",
    "        return math.sqrt(2)\n",
    "    else:\n",
    "        raise ValueError(\"Trying to compute the cost of a non-supported move! ONLY cardinal moves are supported.\")"
   ]
  },
  {
   "cell_type": "markdown",
   "metadata": {},
   "source": [
    "## Read map representations and scenarios"
   ]
  },
  {
   "cell_type": "code",
   "execution_count": 4,
   "metadata": {},
   "outputs": [],
   "source": [
    "def read_map_from_file(filename: str) -> \"Map\":\n",
    "    f = open(filename, 'r')\n",
    "    lines = f.readlines()\n",
    "    height = int(lines[1].split()[1])\n",
    "    width = int(lines[2].split()[1])\n",
    "    cells = np.array(\n",
    "        [[0 if (char == \".\" or char == \"G\") else 1 for char in line.rstrip()] for line in lines[4:] if line],\n",
    "        dtype=np.int8,\n",
    "    )\n",
    "    f.close()\n",
    "    assert cells.shape == (height, width)\n",
    "    return Map(cells, name=filename.split('/')[-1].split('.')[0])"
   ]
  },
  {
   "cell_type": "code",
   "execution_count": 5,
   "metadata": {},
   "outputs": [],
   "source": [
    "@dataclass\n",
    "class TestScen:\n",
    "    map_name: str\n",
    "    width: int\n",
    "    height: int\n",
    "    start_i: int\n",
    "    start_j: int\n",
    "    goal_i: int\n",
    "    goal_j: int\n",
    "    optimal_length: float\n",
    "\n",
    "    def __str__(self):\n",
    "        res = f'start: ({self.start_i}, {self.start_j}), goal: ({self.goal_i}, {self.goal_j}), optimal_length: {self.optimal_length}'\n",
    "        return res"
   ]
  },
  {
   "cell_type": "code",
   "execution_count": 6,
   "metadata": {},
   "outputs": [],
   "source": [
    "def read_scens_from_file(filename: str) -> List[\"TestScen\"]:\n",
    "    f = open(filename, 'r')\n",
    "    lines = f.readlines()\n",
    "    cases = []\n",
    "    for line in lines[1:]:\n",
    "        if line:\n",
    "            map_name = line.split()[1]\n",
    "            width, height, start_x, start_y, goal_x, goal_y = map(int, line.split()[2: 8])\n",
    "            optimal_length = float(line.split()[8])\n",
    "            cases.append(TestScen(map_name, width, height, start_y, start_x, goal_y, goal_x, optimal_length))\n",
    "    f.close()\n",
    "    return cases"
   ]
  },
  {
   "cell_type": "markdown",
   "metadata": {},
   "source": [
    "## Search node representation"
   ]
  },
  {
   "cell_type": "code",
   "execution_count": 7,
   "metadata": {},
   "outputs": [],
   "source": [
    "class Node:\n",
    "    \n",
    "    def __init__(\n",
    "        self,\n",
    "        i: int,\n",
    "        j: int,\n",
    "        g: Union[float, int] = 0,\n",
    "        h: Union[float, int] = 0,\n",
    "        f: Optional[Union[float, int]] = None,\n",
    "        parent: \"Node\" = None,\n",
    "    ):\n",
    "        self.i = i\n",
    "        self.j = j\n",
    "        self.g = g\n",
    "        self.h = h\n",
    "        if f is None:\n",
    "            self.f = self.g + h\n",
    "        else:\n",
    "            self.f = f\n",
    "        self.parent = parent\n",
    "        self.depth = parent.depth if parent else 0\n",
    "\n",
    "    @property\n",
    "    def vertex(self):\n",
    "        return (self.i, self.j)\n",
    "    \n",
    "    def __eq__(self, other):\n",
    "        return self.vertex == other.vertex\n",
    "\n",
    "    def __hash__(self):\n",
    "        return hash(self.vertex)\n",
    "\n",
    "    def __lt__(self, other):\n",
    "        if self.f != other.f:\n",
    "            return self.f < other.f\n",
    "        if self.h != other.h:\n",
    "            return self.h < other.h\n",
    "        return self.depth > other.depth"
   ]
  },
  {
   "cell_type": "markdown",
   "metadata": {},
   "source": [
    "## Testing scenario"
   ]
  },
  {
   "cell_type": "code",
   "execution_count": 8,
   "metadata": {},
   "outputs": [],
   "source": [
    "@dataclass\n",
    "class AlgorithmResult:\n",
    "    path_found: bool\n",
    "    last_node: Optional[\"Node\"]\n",
    "    steps: int\n",
    "    tree_size: int\n",
    "    open: Optional[List[\"Node\"]]\n",
    "    closed: Optional[List[\"Node\"]]"
   ]
  },
  {
   "cell_type": "code",
   "execution_count": 9,
   "metadata": {},
   "outputs": [],
   "source": [
    "def make_path(goal: Node) -> Tuple[List[Node], Union[float, int]]:\n",
    "    length = goal.g\n",
    "    current = goal\n",
    "    path = []\n",
    "    while current.parent:\n",
    "        path.append(current)\n",
    "        current = current.parent\n",
    "    path.append(current)\n",
    "    return path[::-1], length"
   ]
  },
  {
   "cell_type": "code",
   "execution_count": 10,
   "metadata": {},
   "outputs": [],
   "source": [
    "@dataclass\n",
    "class TestResult:\n",
    "    is_correct: bool\n",
    "    length: Optional[float]\n",
    "    optimal_length: float\n",
    "    steps: int\n",
    "    expansions: int"
   ]
  },
  {
   "cell_type": "code",
   "execution_count": 11,
   "metadata": {},
   "outputs": [],
   "source": [
    "def test_scen(\n",
    "        map: Map,\n",
    "        scen: TestScen,\n",
    "        algorithm: Callable,\n",
    "        search_tree,\n",
    "        heuristic_func: Optional[Callable] = None,\n",
    "    ):\n",
    "    res: AlgorithmResult = algorithm(\n",
    "        task_map=map,\n",
    "        start_i=scen.start_i,\n",
    "        start_j=scen.start_j,\n",
    "        goal_i=scen.goal_i,\n",
    "        goal_j=scen.goal_j,\n",
    "        heuristic_func=heuristic_func,\n",
    "        search_tree=search_tree\n",
    "    )\n",
    "    path_found = res.path_found\n",
    "    length = res.last_node.g if path_found else None\n",
    "    is_correct = False if not path_found else (abs(length - scen.optimal_length) < 1e-6)\n",
    "    return TestResult(\n",
    "        is_correct=is_correct,\n",
    "        length=length,\n",
    "        optimal_length=scen.optimal_length,\n",
    "        steps=res.steps,\n",
    "        expansions=len(res.closed)\n",
    "    )"
   ]
  },
  {
   "cell_type": "markdown",
   "metadata": {},
   "source": [
    "## Dijkstra (baseline)\n",
    "\n",
    "Dijkstra algorithm implementation from lab_02"
   ]
  },
  {
   "cell_type": "code",
   "execution_count": 12,
   "metadata": {},
   "outputs": [],
   "source": [
    "class DijkstraSearchTreePQD:\n",
    "    \n",
    "    def __init__(self):\n",
    "        self._open = []  # Priority queue for nodes in OPEN\n",
    "        self._closed = dict()  # Dictionary for nodes in CLOSED (expanded nodes)\n",
    "        self._enc_open_duplicates = 0  # Number of duplicates encountered in OPEN\n",
    "\n",
    "    def __len__(self) -> int:\n",
    "        return len(self._open) + len(self._closed)\n",
    "\n",
    "    def open_is_empty(self) -> bool:\n",
    "        return len(self._open) == 0\n",
    "\n",
    "    def add_to_open(self, item: Node):\n",
    "        heappush(self._open, item)\n",
    "\n",
    "    def extract_best_node_from_open(self) -> Optional[Node]:\n",
    "        best_node: Optional[Node] = None\n",
    "        while self.opened and not best_node:\n",
    "            extracted_node = heappop(self._open)\n",
    "            if self.was_expanded(extracted_node):\n",
    "                self._enc_open_duplicates += 1\n",
    "            else:\n",
    "                best_node = extracted_node\n",
    "        return best_node\n",
    "\n",
    "    def add_to_closed(self, item: Node):\n",
    "        self._closed[(item.i, item.j)] = item\n",
    "\n",
    "    def was_expanded(self, item: Node) -> bool:\n",
    "        return (item.i, item.j) in self._closed\n",
    "    \n",
    "    def was_expanded_vertex(self, i: int, j: int):\n",
    "        return (i, j) in self._closed\n",
    "\n",
    "    @property\n",
    "    def opened(self):\n",
    "        return self._open\n",
    "\n",
    "    @property\n",
    "    def expanded(self):\n",
    "        return self._closed.values()\n",
    "\n",
    "    @property\n",
    "    def number_of_open_duplicates(self):\n",
    "        return self._enc_open_duplicates"
   ]
  },
  {
   "cell_type": "code",
   "execution_count": 13,
   "metadata": {},
   "outputs": [],
   "source": [
    "def dijkstra(\n",
    "    task_map: Map,\n",
    "    start_i: int,\n",
    "    start_j: int,\n",
    "    goal_i: int,\n",
    "    goal_j: int,\n",
    "    heuristic_func: Optional[Callable],\n",
    "    search_tree: \"DijkstraSearchTreePQD\",\n",
    ") -> AlgorithmResult:\n",
    "    dst = search_tree()  # Dijkstra's search tree\n",
    "    steps = 0\n",
    "    start_node = Node(i=start_i, j=start_j, g=0, parent=None)\n",
    "    dst.add_to_open(start_node)\n",
    "\n",
    "    while dst.opened:\n",
    "        steps += 1\n",
    "        curr_node: Optional[\"Node\"] = dst.extract_best_node_from_open()\n",
    "        if not curr_node:  # self._open is not empty, but only has duplicate nodes\n",
    "            break\n",
    "        if (curr_node.i, curr_node.j) == (goal_i, goal_j):\n",
    "            return AlgorithmResult(\n",
    "                path_found=True,\n",
    "                last_node=curr_node,\n",
    "                steps=steps,\n",
    "                tree_size=len(dst),\n",
    "                open=dst.opened,\n",
    "                closed=dst.expanded\n",
    "            )\n",
    "        for (i, j) in task_map.get_neighbours(curr_node.i, curr_node.j):\n",
    "            if dst.was_expanded_vertex(i, j):\n",
    "                pass\n",
    "            else:\n",
    "                new_node = Node(\n",
    "                    i=i,\n",
    "                    j=j, \n",
    "                    g=curr_node.g + compute_cost(curr_node.i, curr_node.j, i, j), \n",
    "                    parent=curr_node\n",
    "                )\n",
    "                dst.add_to_open(new_node)\n",
    "        dst.add_to_closed(curr_node)\n",
    "\n",
    "    return AlgorithmResult(\n",
    "        path_found=False,\n",
    "        last_node=None,\n",
    "        steps=steps,\n",
    "        tree_size=len(dst),\n",
    "        open=None,\n",
    "        closed=dst.expanded\n",
    "    )"
   ]
  },
  {
   "cell_type": "markdown",
   "metadata": {},
   "source": [
    "## A* (without reexpansion)\n",
    "\n",
    "A* algorithm implementation from lab_03"
   ]
  },
  {
   "cell_type": "code",
   "execution_count": 14,
   "metadata": {},
   "outputs": [],
   "source": [
    "class SearchTreePQD:\n",
    "    \"\"\"\n",
    "    SearchTree using a priority queue for OPEN and a dictionary for CLOSED.\n",
    "    \"\"\"\n",
    "\n",
    "    def __init__(self):\n",
    "        self._open = []  # Priority queue for nodes in OPEN\n",
    "        self._closed = {}  # Dictionary for nodes in CLOSED (expanded nodes)\n",
    "        self._enc_open_duplicates = 0  # Number of duplicates encountered in OPEN\n",
    "\n",
    "    def __len__(self) -> int:\n",
    "        \"\"\"\n",
    "        Returns the size of the search tree. Useful for assessing the memory\n",
    "        footprint of the algorithm, especially at the final iteration.\n",
    "        \"\"\"\n",
    "        return len(self._open) + len(self._closed)\n",
    "\n",
    "    def open_is_empty(self) -> bool:\n",
    "        \"\"\"\n",
    "        Checks if OPEN is empty.\n",
    "        If true, the main search loop should be interrupted.\n",
    "        \"\"\"\n",
    "        return len(self._open) == 0\n",
    "\n",
    "    def add_to_open(self, item: Node):\n",
    "        \"\"\"\n",
    "        Adds a node to the search tree, specifically to OPEN. This node is either\n",
    "        entirely new or a duplicate of an existing node in OPEN.\n",
    "        This implementation detects duplicates lazily; thus, nodes are added to\n",
    "        OPEN without initial duplicate checks.\n",
    "        \"\"\"\n",
    "        heappush(self._open, item)\n",
    "\n",
    "    def get_best_node_from_open(self) -> Optional[Node]:\n",
    "        \"\"\"\n",
    "        Retrieves the best node from OPEN, defined by the minimum key.\n",
    "        This node will then be expanded in the main search loop.\n",
    "\n",
    "        Duplicates are managed here. If a node has been expanded previously\n",
    "        (and is in CLOSED), it's skipped and the next best node is considered.\n",
    "\n",
    "        Returns None if OPEN is empty.\n",
    "        \"\"\"\n",
    "        best_node: Optional[Node] = None\n",
    "        while self.opened and not best_node:\n",
    "            extracted_node = heappop(self._open)\n",
    "            if self.was_expanded(extracted_node):\n",
    "                self._enc_open_duplicates += 1\n",
    "            else:\n",
    "                best_node = extracted_node\n",
    "        return best_node\n",
    "\n",
    "    def add_to_closed(self, item: Node):\n",
    "        \"\"\"\n",
    "        Adds a node to the CLOSED dictionary.\n",
    "        \"\"\"\n",
    "        self._closed[item.vertex] = item\n",
    "\n",
    "    def was_expanded(self, item: Node) -> bool:\n",
    "        \"\"\"\n",
    "        Checks if a node has been previously expanded.\n",
    "        \"\"\"\n",
    "        return item.vertex in self._closed\n",
    "    \n",
    "    def was_expanded_vertex(self, i: int, j: int):\n",
    "        return (i, j) in self._closed\n",
    "\n",
    "    @property\n",
    "    def opened(self):\n",
    "        return self._open\n",
    "\n",
    "    @property\n",
    "    def expanded(self):\n",
    "        return self._closed.values()\n",
    "\n",
    "    @property\n",
    "    def number_of_open_dublicates(self):\n",
    "        return self._enc_open_duplicates"
   ]
  },
  {
   "cell_type": "code",
   "execution_count": 15,
   "metadata": {},
   "outputs": [],
   "source": [
    "# inadmissible heuristics\n",
    "def manhattan_distance(i1: int, j1: int, i2: int, j2: int) -> int:\n",
    "    dx = abs(j1 - j2)\n",
    "    dy = abs(i1 - i2)\n",
    "    return dx + dy"
   ]
  },
  {
   "cell_type": "code",
   "execution_count": 16,
   "metadata": {},
   "outputs": [],
   "source": [
    "# admissible and monotone\n",
    "def euclidean_distance(i1: int, j1: int, i2: int, j2: int) -> float:\n",
    "    dx = abs(j1 - j2)\n",
    "    dy = abs(i1 - i2)\n",
    "    return math.sqrt(dx ** 2 + dy ** 2)"
   ]
  },
  {
   "cell_type": "code",
   "execution_count": 17,
   "metadata": {},
   "outputs": [],
   "source": [
    "# admissible and monotone. supposedly the best one as it is\n",
    "def octile_distance(i1: int, j1: int, i2: int, j2: int) -> float:\n",
    "    dx = abs(j1 - j2)\n",
    "    dy = abs(i1 - i2)\n",
    "    return math.sqrt(2) * min(dx, dy) + abs(dx - dy)"
   ]
  },
  {
   "cell_type": "code",
   "execution_count": 18,
   "metadata": {},
   "outputs": [],
   "source": [
    "def astar(\n",
    "    task_map: Map,\n",
    "    start_i: int,\n",
    "    start_j: int,\n",
    "    goal_i: int,\n",
    "    goal_j: int,\n",
    "    heuristic_func: Callable,\n",
    "    search_tree: Type[SearchTreePQD],\n",
    ") -> Tuple[bool, Optional[Node], int, int, Optional[Iterable[Node]], Optional[Iterable[Node]]]:\n",
    "    \n",
    "    ast = search_tree()\n",
    "    steps = 0\n",
    "\n",
    "    start_node = Node(start_i, start_j, g=0, h=heuristic_func(start_i, start_j, goal_i, goal_j), parent=None)\n",
    "    ast.add_to_open(start_node)\n",
    "\n",
    "    while ast.opened:\n",
    "        steps += 1\n",
    "        curr_node: Optional[\"Node\"] = ast.get_best_node_from_open()\n",
    "        if not curr_node:  # self._open is not empty, but only has duplicate nodes\n",
    "            break\n",
    "        if curr_node.vertex == (goal_i, goal_j):\n",
    "            return AlgorithmResult(\n",
    "                path_found=True,\n",
    "                last_node=curr_node,\n",
    "                steps=steps,\n",
    "                tree_size=len(ast),\n",
    "                open=ast.opened,\n",
    "                closed=ast.expanded\n",
    "            )\n",
    "        for vertex in task_map.get_neighbours(*curr_node.vertex):\n",
    "            if ast.was_expanded_vertex(*vertex):\n",
    "                pass\n",
    "            else:\n",
    "                new_node = Node(\n",
    "                    i=vertex[0],\n",
    "                    j=vertex[1], \n",
    "                    g=curr_node.g + compute_cost(curr_node.i, curr_node.j, *vertex), \n",
    "                    h=heuristic_func(vertex[0], vertex[1], goal_i, goal_j),\n",
    "                    parent=curr_node\n",
    "                )\n",
    "                ast.add_to_open(new_node)\n",
    "        ast.add_to_closed(curr_node)\n",
    "\n",
    "    return AlgorithmResult(\n",
    "        path_found=False,\n",
    "        last_node=None,\n",
    "        steps=steps,\n",
    "        tree_size=len(ast),\n",
    "        open=ast.opened,\n",
    "        closed=ast.expanded\n",
    "    )"
   ]
  },
  {
   "cell_type": "markdown",
   "metadata": {},
   "source": [
    "## Sample scenario"
   ]
  },
  {
   "cell_type": "code",
   "execution_count": 19,
   "metadata": {},
   "outputs": [
    {
     "name": "stdout",
     "output_type": "stream",
     "text": [
      "width = 5, height = 4\n",
      "[0 0 0 0 0]\n",
      "[0 0 1 1 0]\n",
      "[0 0 1 0 0]\n",
      "[0 0 0 0 0]\n"
     ]
    }
   ],
   "source": [
    "sample_map = read_map_from_file('test_data/sample_grid/sample.map')\n",
    "print(sample_map)"
   ]
  },
  {
   "cell_type": "code",
   "execution_count": 20,
   "metadata": {},
   "outputs": [
    {
     "name": "stdout",
     "output_type": "stream",
     "text": [
      "0 : start: (0, 0), goal: (1, 1), optimal_length: 1.41421356\n",
      "1 : start: (0, 0), goal: (3, 3), optimal_length: 5.41421356\n"
     ]
    }
   ],
   "source": [
    "sample_scens = read_scens_from_file('test_data/sample_grid/sample.scen')\n",
    "for i, scen in enumerate(sample_scens):\n",
    "    print(i, ':', scen)"
   ]
  },
  {
   "cell_type": "code",
   "execution_count": 21,
   "metadata": {},
   "outputs": [
    {
     "name": "stdout",
     "output_type": "stream",
     "text": [
      "scenario 0: start: (0, 0), goal: (1, 1), optimal_length: 1.41421356,\n",
      "correct: True, rlength: 1.414214, optimal_length: 1.414214\n",
      "\n",
      "scenario 1: start: (0, 0), goal: (3, 3), optimal_length: 5.41421356,\n",
      "correct: True, rlength: 5.414214, optimal_length: 5.414214\n",
      "\n"
     ]
    }
   ],
   "source": [
    "for i, scen in enumerate(sample_scens):\n",
    "    res: TestResult = test_scen(\n",
    "        map=sample_map,\n",
    "        scen=scen,\n",
    "        algorithm=astar,\n",
    "        search_tree=SearchTreePQD,\n",
    "        heuristic_func=euclidean_distance\n",
    "    )\n",
    "    print(f\"scenario {i}: {scen},\\ncorrect: {res.is_correct}, rlength: {res.length:.6f}, optimal_length: {res.optimal_length:.6f}\\n\")\n",
    "    "
   ]
  },
  {
   "cell_type": "markdown",
   "metadata": {},
   "source": [
    "## Experimental setup\n",
    "\n",
    "In this experiment, we're going to use three variations of Astar algorithm (with different heuristics):\n",
    "\n",
    "- manhattan distance (this one is not admissible and we expect it to have incorrect results),\n",
    "- eucliudean distance (admissible and monotone),\n",
    "- octile distance (also admissible and monotone, and we expect this one to be slightly better than the eucliudean one as its values are alwayes greater or equal to the euclidean distance)\n",
    "\n",
    "Benchmarking will be held on three different maps (<code>.map</code> files from test_data):\n",
    "\n",
    "- random map, 512x512 (with randomly generated grid)\n",
    "- room map, 512x512 (square rooms with random openings between them)\n",
    "- street map of New York, 512x512 (discretized from building/road maps)\n",
    "\n",
    "On each map we're going to test 100 different randomly chosen scenarios (<code>.map.scen</code> files from test_data)"
   ]
  },
  {
   "cell_type": "markdown",
   "metadata": {},
   "source": [
    "## Benchmarking"
   ]
  },
  {
   "cell_type": "code",
   "execution_count": 27,
   "metadata": {},
   "outputs": [],
   "source": [
    "map_new_york = read_map_from_file('test_data/street_grid/NewYork_1_512.map')\n",
    "all_scens_new_york = np.array(read_scens_from_file('test_data/street_grid/NewYork_1_512.map.scen'))\n",
    "\n",
    "map_random = read_map_from_file('test_data/random_grid/random512-10-8.map')\n",
    "all_scens_random = read_scens_from_file('test_data/random_grid/random512-10-8.map.scen')\n",
    "\n",
    "map_room = read_map_from_file('test_data/room_grid/64room_002.map')\n",
    "all_scens_room = read_scens_from_file('test_data/room_grid/64room_002.map.scen')"
   ]
  },
  {
   "cell_type": "code",
   "execution_count": 23,
   "metadata": {},
   "outputs": [],
   "source": [
    "np.random.seed(1337)\n",
    "\n",
    "scens_new_york = np.random.choice(a=all_scens_new_york, size=100)\n",
    "scens_random = np.random.choice(a=all_scens_random, size=100)\n",
    "scens_room = np.random.choice(a=all_scens_room, size=100)\n"
   ]
  },
  {
   "cell_type": "code",
   "execution_count": 24,
   "metadata": {},
   "outputs": [],
   "source": [
    "from tqdm import tqdm"
   ]
  },
  {
   "cell_type": "code",
   "execution_count": 38,
   "metadata": {},
   "outputs": [],
   "source": [
    "algorithm_version = (\n",
    "    ('Dijkstra', dijkstra, DijkstraSearchTreePQD, None), \n",
    "    ('Astar - manhattan', astar, SearchTreePQD, manhattan_distance), \n",
    "    ('Astar - euclidean', astar, SearchTreePQD, euclidean_distance), \n",
    "    ('Astar - octile', astar, SearchTreePQD, octile_distance), \n",
    ")"
   ]
  },
  {
   "cell_type": "code",
   "execution_count": 39,
   "metadata": {},
   "outputs": [
    {
     "name": "stdout",
     "output_type": "stream",
     "text": [
      "Benchmarking on map NewYork_1_512\n"
     ]
    },
    {
     "name": "stderr",
     "output_type": "stream",
     "text": [
      "100%|██████████| 100/100 [02:56<00:00,  1.76s/it]\n"
     ]
    },
    {
     "name": "stdout",
     "output_type": "stream",
     "text": [
      "Benchmarking on map random512-10-8\n"
     ]
    },
    {
     "name": "stderr",
     "output_type": "stream",
     "text": [
      "100%|██████████| 100/100 [02:52<00:00,  1.72s/it]\n"
     ]
    },
    {
     "name": "stdout",
     "output_type": "stream",
     "text": [
      "Benchmarking on map 64room_002\n"
     ]
    },
    {
     "name": "stderr",
     "output_type": "stream",
     "text": [
      "100%|██████████| 100/100 [05:12<00:00,  3.12s/it]\n"
     ]
    }
   ],
   "source": [
    "correctness = defaultdict(lambda: defaultdict(lambda: []))\n",
    "steps = defaultdict(lambda: defaultdict(lambda: []))\n",
    "expansions = defaultdict(lambda: defaultdict(lambda: []))\n",
    "\n",
    "# runs for about 11 mins!\n",
    "for (map_, scens) in ((map_new_york, scens_new_york), (map_random, scens_random), (map_room, scens_room)):\n",
    "    print(f\"Benchmarking on map {map_.name}\")\n",
    "    for scen in tqdm(scens):\n",
    "        for (version_name, algorithm, search_tree, heuristic_func) in algorithm_version:\n",
    "            res: TestResult = test_scen(\n",
    "                map=map_,\n",
    "                scen=scen,\n",
    "                algorithm=algorithm,\n",
    "                search_tree=search_tree,\n",
    "                heuristic_func=heuristic_func\n",
    "            )\n",
    "            correctness[version_name][map_.name].append(res.is_correct)\n",
    "            steps[version_name][map_.name].append(res.steps)\n",
    "            expansions[version_name][map_.name].append(res.expansions)"
   ]
  },
  {
   "cell_type": "code",
   "execution_count": 57,
   "metadata": {},
   "outputs": [],
   "source": [
    "map_names = ('NewYork_1_512', 'random512-10-8', '64room_002')\n",
    "algorithm_names = [x[0] for x in algorithm_version]"
   ]
  },
  {
   "cell_type": "code",
   "execution_count": 70,
   "metadata": {},
   "outputs": [
    {
     "name": "stdout",
     "output_type": "stream",
     "text": [
      "Algorithms correctness\n",
      "Dijkstra:\n",
      "    on NewYork_1_512: 100/100\n",
      "    on random512-10-8: 100/100\n",
      "    on 64room_002: 100/100\n",
      "Astar - manhattan:\n",
      "    on NewYork_1_512: 66/100\n",
      "    on random512-10-8: 11/100\n",
      "    on 64room_002: 69/100\n",
      "Astar - euclidean:\n",
      "    on NewYork_1_512: 100/100\n",
      "    on random512-10-8: 100/100\n",
      "    on 64room_002: 100/100\n",
      "Astar - octile:\n",
      "    on NewYork_1_512: 100/100\n",
      "    on random512-10-8: 100/100\n",
      "    on 64room_002: 100/100\n"
     ]
    }
   ],
   "source": [
    "print('Algorithms correctness')\n",
    "for alg in algorithm_names:\n",
    "    print(f\"{alg}:\")\n",
    "    for map_name in map_names:\n",
    "        print(f\"    on {map_name}:\", end=' ')\n",
    "        print(f\"{np.sum(np.array(correctness[alg][map_name]) == 1)}/100\")"
   ]
  },
  {
   "cell_type": "markdown",
   "metadata": {},
   "source": [
    "### Correctness\n",
    "\n",
    "Percentage of correctly solved puzzles for each map"
   ]
  },
  {
   "cell_type": "code",
   "execution_count": null,
   "metadata": {},
   "outputs": [],
   "source": [
    "fig, axes = plt.subplots(3, figsize=(16, 16))\n",
    "for i, map_name in enumerate(map_names):\n",
    "    ax = axes[i]\n",
    "    labels = ['Astar - manhattan', 'Astar - euclidean', 'Astar - octile']\n",
    "    ax.hist([correctness['Astar - euclidean'][map_name]])\n",
    "    ax.set_title(map_name)"
   ]
  },
  {
   "cell_type": "markdown",
   "metadata": {},
   "source": [
    "## Steps count"
   ]
  },
  {
   "cell_type": "code",
   "execution_count": 116,
   "metadata": {},
   "outputs": [
    {
     "name": "stderr",
     "output_type": "stream",
     "text": [
      "/var/folders/k5/l4kgrfbj54l69z4l6p2vxb8h0000gn/T/ipykernel_66106/799537322.py:9: UserWarning: Matplotlib is currently using module://matplotlib_inline.backend_inline, which is a non-GUI backend, so cannot show the figure.\n",
      "  fig.show()\n"
     ]
    },
    {
     "data": {
      "image/png": "[encoded data removed]",
      "text/plain": [
       "<Figure size 1600x800 with 1 Axes>"
      ]
     },
     "metadata": {},
     "output_type": "display_data"
    }
   ],
   "source": [
    "fig, ax = plt.subplots(figsize=(16, 8))\n",
    "labels = [\n",
    "    # 'Dijkstra',\n",
    "    'Astar - manhattan',\n",
    "    'Astar - euclidean',\n",
    "    'Astar - octile'\n",
    "]\n",
    "ax.boxplot([np.hstack(np.array([steps[alg][map_] for map_ in map_names])) for alg in labels], labels=labels)\n",
    "fig.show()"
   ]
  },
  {
   "cell_type": "code",
   "execution_count": 117,
   "metadata": {},
   "outputs": [
    {
     "data": {
      "text/plain": [
       "\"\\nfig, axes = plt.subplots(3, figsize=(16, 16))\\nfor i, map_name in enumerate(map_names):\\n    ax = axes[i]\\n    labels = ['Astar - manhattan', 'Astar - euclidean', 'Astar - octile']\\n    ax.boxplot([steps[alg][map_name] for alg in labels], labels=labels)\\n    ax.set_title(map_name)\\n\""
      ]
     },
     "execution_count": 117,
     "metadata": {},
     "output_type": "execute_result"
    }
   ],
   "source": [
    "# number of steps for each map individually\n",
    "'''\n",
    "fig, axes = plt.subplots(3, figsize=(16, 16))\n",
    "for i, map_name in enumerate(map_names):\n",
    "    ax = axes[i]\n",
    "    labels = ['Astar - manhattan', 'Astar - euclidean', 'Astar - octile']\n",
    "    ax.boxplot([steps[alg][map_name] for alg in labels], labels=labels)\n",
    "    ax.set_title(map_name)\n",
    "'''"
   ]
  },
  {
   "cell_type": "markdown",
   "metadata": {},
   "source": [
    "## Expansions count\n",
    "\n",
    "Number of expansions for each map"
   ]
  },
  {
   "cell_type": "code",
   "execution_count": 118,
   "metadata": {},
   "outputs": [
    {
     "name": "stderr",
     "output_type": "stream",
     "text": [
      "/var/folders/k5/l4kgrfbj54l69z4l6p2vxb8h0000gn/T/ipykernel_66106/1761726146.py:9: UserWarning: Matplotlib is currently using module://matplotlib_inline.backend_inline, which is a non-GUI backend, so cannot show the figure.\n",
      "  fig.show()\n"
     ]
    },
    {
     "data": {
      "image/png": "[encoded data removed]",
      "text/plain": [
       "<Figure size 1600x800 with 1 Axes>"
      ]
     },
     "metadata": {},
     "output_type": "display_data"
    }
   ],
   "source": [
    "fig, ax = plt.subplots(figsize=(16, 8))\n",
    "labels = [\n",
    "    # 'Dijkstra',\n",
    "    'Astar - manhattan',\n",
    "    'Astar - euclidean',\n",
    "    'Astar - octile'\n",
    "]\n",
    "ax.boxplot([np.hstack(np.array([expansions[alg][map_] for map_ in map_names])) for alg in labels], labels=labels)\n",
    "fig.show()"
   ]
  }
 ],
 "metadata": {
  "kernelspec": {
   "display_name": "base",
   "language": "python",
   "name": "python3"
  },
  "language_info": {
   "codemirror_mode": {
    "name": "ipython",
    "version": 3
   },
   "file_extension": ".py",
   "mimetype": "text/x-python",
   "name": "python",
   "nbconvert_exporter": "python",
   "pygments_lexer": "ipython3",
   "version": "3.11.5"
  },
  "orig_nbformat": 4
 },
 "nbformat": 4,
 "nbformat_minor": 2
}
